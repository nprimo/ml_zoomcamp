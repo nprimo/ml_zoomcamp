{
 "cells": [
  {
   "cell_type": "code",
   "execution_count": 1,
   "id": "considerable-entertainment",
   "metadata": {},
   "outputs": [],
   "source": [
    "import pandas as pd\n",
    "import numpy as np\n",
    "import matplotlib.pyplot as plt\n",
    "import seaborn as sns"
   ]
  },
  {
   "cell_type": "code",
   "execution_count": 2,
   "id": "suffering-croatia",
   "metadata": {},
   "outputs": [
    {
     "name": "stdout",
     "output_type": "stream",
     "text": [
      "<class 'pandas.core.frame.DataFrame'>\n",
      "RangeIndex: 48895 entries, 0 to 48894\n",
      "Data columns (total 8 columns):\n",
      " #   Column                          Non-Null Count  Dtype  \n",
      "---  ------                          --------------  -----  \n",
      " 0   latitude                        48895 non-null  float64\n",
      " 1   longitude                       48895 non-null  float64\n",
      " 2   price                           48895 non-null  int64  \n",
      " 3   minimum_nights                  48895 non-null  int64  \n",
      " 4   number_of_reviews               48895 non-null  int64  \n",
      " 5   reviews_per_month               38843 non-null  float64\n",
      " 6   calculated_host_listings_count  48895 non-null  int64  \n",
      " 7   availability_365                48895 non-null  int64  \n",
      "dtypes: float64(3), int64(5)\n",
      "memory usage: 3.0 MB\n"
     ]
    }
   ],
   "source": [
    "df = pd.read_csv('AB_NYC_2019.csv')\n",
    "feat = ['latitude', 'longitude', 'price', 'minimum_nights', 'number_of_reviews',\n",
    "        'reviews_per_month', 'calculated_host_listings_count', 'availability_365']\n",
    "df = df[feat]\n",
    "df.info()"
   ]
  },
  {
   "cell_type": "markdown",
   "id": "italian-paper",
   "metadata": {},
   "source": [
    "### Question 1\n",
    "Find a feature with missing values. How many missing values does it have?"
   ]
  },
  {
   "cell_type": "code",
   "execution_count": 3,
   "id": "southwest-delta",
   "metadata": {},
   "outputs": [
    {
     "data": {
      "text/plain": [
       "latitude                              0\n",
       "longitude                             0\n",
       "price                                 0\n",
       "minimum_nights                        0\n",
       "number_of_reviews                     0\n",
       "reviews_per_month                 10052\n",
       "calculated_host_listings_count        0\n",
       "availability_365                      0\n",
       "dtype: int64"
      ]
     },
     "execution_count": 3,
     "metadata": {},
     "output_type": "execute_result"
    }
   ],
   "source": [
    "df.isnull().sum()"
   ]
  },
  {
   "cell_type": "markdown",
   "id": "better-carry",
   "metadata": {},
   "source": [
    "### Question 2\n",
    "What's the median (50% percentile) for variable 'minimum_nights'?"
   ]
  },
  {
   "cell_type": "code",
   "execution_count": 4,
   "id": "suitable-devices",
   "metadata": {},
   "outputs": [
    {
     "data": {
      "text/plain": [
       "count    48895.000000\n",
       "mean         7.029962\n",
       "std         20.510550\n",
       "min          1.000000\n",
       "25%          1.000000\n",
       "50%          3.000000\n",
       "75%          5.000000\n",
       "max       1250.000000\n",
       "Name: minimum_nights, dtype: float64"
      ]
     },
     "execution_count": 4,
     "metadata": {},
     "output_type": "execute_result"
    }
   ],
   "source": [
    "df.minimum_nights.describe()"
   ]
  },
  {
   "cell_type": "markdown",
   "id": "after-spain",
   "metadata": {},
   "source": [
    "### Split the data\n",
    "* Shuffle the initial dataset, use seed 42.\n",
    "* Split your data in train/val/test sets, with 60%/20%/20% distribution.\n",
    "* Make sure that the target value ('price') is not in your dataframe.\n",
    "* Apply the log transformation to the price variable using the np.log1p() function."
   ]
  },
  {
   "cell_type": "code",
   "execution_count": 5,
   "id": "israeli-damage",
   "metadata": {},
   "outputs": [
    {
     "name": "stdout",
     "output_type": "stream",
     "text": [
      "48895 48895\n",
      "29337 9779 9779\n"
     ]
    },
    {
     "data": {
      "text/plain": [
       "index                             44211.00000\n",
       "latitude                             40.75078\n",
       "longitude                           -73.87949\n",
       "minimum_nights                        1.00000\n",
       "number_of_reviews                     4.00000\n",
       "reviews_per_month                     2.11000\n",
       "calculated_host_listings_count        4.00000\n",
       "availability_365                    354.00000\n",
       "Name: 10, dtype: float64"
      ]
     },
     "execution_count": 5,
     "metadata": {},
     "output_type": "execute_result"
    }
   ],
   "source": [
    "np.random.seed(42)\n",
    "# get the number of lines\n",
    "n_rows = df.shape[0]\n",
    "# get the numbers of rows for train/val/test\n",
    "n_train = n_rows - int(n_rows * .2) * 2\n",
    "n_val = int(n_rows * .2)\n",
    "n_test = int(n_rows * .2)\n",
    "\n",
    "print(n_rows, n_train + n_val + n_test)\n",
    "print(n_train, n_val, n_test)\n",
    "\n",
    "# generate a list of index and shuffle them\n",
    "idx = np.arange(n_rows)\n",
    "np.random.shuffle(idx)\n",
    "# get df_train, df_val, df_test\n",
    "df_train = df.iloc[idx[:n_train]]\n",
    "df_val = df.iloc[idx[n_train:(n_train+n_val)]]\n",
    "df_test = df.iloc[idx[(n_train + n_val):]]\n",
    "\n",
    "# remove the weird index\n",
    "df_train.reset_index(inplace=True)\n",
    "df_val.reset_index(inplace=True)\n",
    "df_test.reset_index(inplace=True)\n",
    "\n",
    "# assing y_train, y_val, y_test and remove 'price column'\n",
    "y_train = np.log1p(df_train['price'])\n",
    "del df_train['price']\n",
    "y_val = np.log1p(df_val['price'])\n",
    "del df_val['price']\n",
    "y_test = np.log1p(df_test['price'])\n",
    "del df_test['price']\n",
    "\n",
    "df_train.iloc[10]"
   ]
  },
  {
   "cell_type": "markdown",
   "id": "bottom-distribution",
   "metadata": {},
   "source": [
    "### Set up some useful function"
   ]
  },
  {
   "cell_type": "code",
   "execution_count": 6,
   "id": "boxed-warrant",
   "metadata": {},
   "outputs": [],
   "source": [
    "def lin_reg(X):\n",
    "    return X.dot(teta)"
   ]
  },
  {
   "cell_type": "code",
   "execution_count": 7,
   "id": "numerical-savings",
   "metadata": {},
   "outputs": [],
   "source": [
    "def train_lin_reg(X, y):\n",
    "    ones = np.ones(X.shape[0])\n",
    "    X = np.column_stack([ones, X])\n",
    "    XTX = X.T.dot(X)\n",
    "    XTX_inv = np.linalg.inv(XTX)\n",
    "    teta = XTX_inv.dot(X.T).dot(y)\n",
    "    return teta[0], teta[1:]"
   ]
  },
  {
   "cell_type": "code",
   "execution_count": 8,
   "id": "vanilla-comparison",
   "metadata": {},
   "outputs": [],
   "source": [
    "def rmse(y, y_pred):\n",
    "    error = y - y_pred\n",
    "    error_sq = error ** 2\n",
    "    error_sq_mean = error_sq.mean()\n",
    "    return np.sqrt(error_sq_mean)"
   ]
  },
  {
   "cell_type": "markdown",
   "id": "north-british",
   "metadata": {},
   "source": [
    "### Question 3\n",
    "* We need to deal with missing values for the column from Q1.\n",
    "* We have two options: fill it with 0 or with the mean of this variable.\n",
    "* Try both options. For each, train a linear regression model without regularization using the code from the lessons.\n",
    "* For computing the mean, use the training only!\n",
    "* Use the validation dataset to evaluate the models and compare the RMSE of each option.\n",
    "* Round the RMSE scores to 2 decimal digits using round(score, 2)\n",
    "* Which option gives better RMSE?"
   ]
  },
  {
   "cell_type": "code",
   "execution_count": 12,
   "id": "human-delight",
   "metadata": {},
   "outputs": [],
   "source": [
    "# option 1 with 0\n",
    "X_train_1 = df_train.select_dtypes(include=np.number).fillna(0).values\n",
    "teta0_1, teta_1 = train_lin_reg(X_train_1, y_train)\n",
    "y_pred_1 = teta0_1 + X_train_1.dot(teta_1)\n",
    "\n",
    "# option 2 with mean\n",
    "X_train_2 = df_train.select_dtypes(include=np.number).fillna(df.reviews_per_month.mean()).values\n",
    "teta0_2, teta_2 = train_lin_reg(X_train_2, y_train)\n",
    "y_pred_2 = teta0_2 + X_train_2.dot(teta_2)"
   ]
  },
  {
   "cell_type": "code",
   "execution_count": 13,
   "id": "returning-soccer",
   "metadata": {},
   "outputs": [
    {
     "data": {
      "text/plain": [
       "<matplotlib.axes._subplots.AxesSubplot at 0x19739e89908>"
      ]
     },
     "execution_count": 13,
     "metadata": {},
     "output_type": "execute_result"
    },
    {
     "data": {
      "image/png": "[encoded data removed]",
      "text/plain": [
       "<Figure size 432x288 with 1 Axes>"
      ]
     },
     "metadata": {
      "needs_background": "light"
     },
     "output_type": "display_data"
    }
   ],
   "source": [
    "sns.histplot(y_pred_1, color='red', bins=50)\n",
    "sns.histplot(y_pred_2, color='green', bins=50)\n",
    "sns.histplot(y_train, color='blue', bins=50)"
   ]
  },
  {
   "cell_type": "code",
   "execution_count": 15,
   "id": "chicken-barrel",
   "metadata": {},
   "outputs": [
    {
     "name": "stdout",
     "output_type": "stream",
     "text": [
      "Option 1: \n",
      "0.64\n",
      "Option 2: \n",
      "0.64\n"
     ]
    }
   ],
   "source": [
    "print(\"Option 1: \")\n",
    "print(round(rmse(y_train, y_pred_1), 2))\n",
    "print(\"Option 2: \")\n",
    "print(round(rmse(y_train, y_pred_2), 2))"
   ]
  }
 ],
 "metadata": {
  "kernelspec": {
   "display_name": "Python 3",
   "language": "python",
   "name": "python3"
  },
  "language_info": {
   "codemirror_mode": {
    "name": "ipython",
    "version": 3
   },
   "file_extension": ".py",
   "mimetype": "text/x-python",
   "name": "python",
   "nbconvert_exporter": "python",
   "pygments_lexer": "ipython3",
   "version": "3.7.9"
  }
 },
 "nbformat": 4,
 "nbformat_minor": 5
}
